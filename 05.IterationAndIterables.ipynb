{
    "cells": [
        {
            "cell_type": "markdown",
            "source": [
                "# Comprehensions"
            ],
            "metadata": {}
        },
        {
            "cell_type": "code",
            "execution_count": 14,
            "source": [
                "words = \"My name is Yuriy\".split()\r\n",
                "print(words)\r\n",
                "word_lengths = [len(word) for word in words] # list comprehension\r\n",
                "print(word_lengths)\r\n",
                "\r\n",
                "from math import factorial\r\n",
                "print({len(str(factorial(num))) for num in range(20)}) # set comprehension\r\n",
                "\r\n",
                "country_to_capital = {'United Kingdom': 'London',\r\n",
                "                      'France': 'Paris',\r\n",
                "                      'Ukraine': 'Kyiv'}\r\n",
                "capital_to_country = {capital: country for country, capital in country_to_capital.items()} # dictionary comprehension\r\n",
                "print(capital_to_country)\r\n",
                "\r\n",
                "from math import sqrt\r\n",
                "def is_prime(x):\r\n",
                "    if x < 2:\r\n",
                "        return False\r\n",
                "    for i in range(2, int(sqrt(x)) + 1):\r\n",
                "        if(x % i) == 0:\r\n",
                "            return False\r\n",
                "    return True\r\n",
                "print([x for x in range(101) if is_prime(x)])"
            ],
            "outputs": [
                {
                    "output_type": "stream",
                    "name": "stdout",
                    "text": [
                        "['My', 'name', 'is', 'Yuriy']\n",
                        "[2, 4, 2, 5]\n",
                        "{1, 2, 3, 4, 5, 6, 7, 8, 9, 10, 11, 13, 14, 15, 16, 18}\n",
                        "{'London': 'United Kingdom', 'Paris': 'France', 'Kyiv': 'Ukraine'}\n",
                        "[2, 3, 5, 7, 11, 13, 17, 19, 23, 29, 31, 37, 41, 43, 47, 53, 59, 61, 67, 71, 73, 79, 83, 89, 97]\n"
                    ]
                }
            ],
            "metadata": {}
        },
        {
            "cell_type": "markdown",
            "source": [
                "# Iteration Protocols"
            ],
            "metadata": {}
        },
        {
            "cell_type": "code",
            "execution_count": 17,
            "source": [
                "iterable = ['Spring', 'Summer', 'Automn', 'Winter']\r\n",
                "iterator = iter(iterable)\r\n",
                "print(next(iterator))\r\n",
                "print(next(iterator))\r\n",
                "print(next(iterator))\r\n",
                "print(next(iterator))\r\n",
                "\r\n",
                "def first(iterable):\r\n",
                "    iterator = iter(iterable)\r\n",
                "    try:\r\n",
                "        return next(iterator)\r\n",
                "    except StopIteration:\r\n",
                "        raise ValueError(\"iterable is empty\")\r\n",
                "\r\n",
                "print(first([1, 2, 3]))\r\n",
                "print(first({}))\r\n"
            ],
            "outputs": [
                {
                    "output_type": "stream",
                    "name": "stdout",
                    "text": [
                        "Spring\n",
                        "Summer\n",
                        "Automn\n",
                        "Winter\n",
                        "1\n"
                    ]
                },
                {
                    "output_type": "error",
                    "ename": "ValueError",
                    "evalue": "iterable is empty",
                    "traceback": [
                        "\u001b[1;31m---------------------------------------------------------------------------\u001b[0m",
                        "\u001b[1;31mStopIteration\u001b[0m                             Traceback (most recent call last)",
                        "\u001b[1;32m<ipython-input-17-d337d7015bf6>\u001b[0m in \u001b[0;36mfirst\u001b[1;34m(iterable)\u001b[0m\n\u001b[0;32m     10\u001b[0m     \u001b[1;32mtry\u001b[0m\u001b[1;33m:\u001b[0m\u001b[1;33m\u001b[0m\u001b[1;33m\u001b[0m\u001b[0m\n\u001b[1;32m---> 11\u001b[1;33m         \u001b[1;32mreturn\u001b[0m \u001b[0mnext\u001b[0m\u001b[1;33m(\u001b[0m\u001b[0miterator\u001b[0m\u001b[1;33m)\u001b[0m\u001b[1;33m\u001b[0m\u001b[1;33m\u001b[0m\u001b[0m\n\u001b[0m\u001b[0;32m     12\u001b[0m     \u001b[1;32mexcept\u001b[0m \u001b[0mStopIteration\u001b[0m\u001b[1;33m:\u001b[0m\u001b[1;33m\u001b[0m\u001b[1;33m\u001b[0m\u001b[0m\n",
                        "\u001b[1;31mStopIteration\u001b[0m: ",
                        "\nDuring handling of the above exception, another exception occurred:\n",
                        "\u001b[1;31mValueError\u001b[0m                                Traceback (most recent call last)",
                        "\u001b[1;32m<ipython-input-17-d337d7015bf6>\u001b[0m in \u001b[0;36m<module>\u001b[1;34m\u001b[0m\n\u001b[0;32m     14\u001b[0m \u001b[1;33m\u001b[0m\u001b[0m\n\u001b[0;32m     15\u001b[0m \u001b[0mprint\u001b[0m\u001b[1;33m(\u001b[0m\u001b[0mfirst\u001b[0m\u001b[1;33m(\u001b[0m\u001b[1;33m[\u001b[0m\u001b[1;36m1\u001b[0m\u001b[1;33m,\u001b[0m \u001b[1;36m2\u001b[0m\u001b[1;33m,\u001b[0m \u001b[1;36m3\u001b[0m\u001b[1;33m]\u001b[0m\u001b[1;33m)\u001b[0m\u001b[1;33m)\u001b[0m\u001b[1;33m\u001b[0m\u001b[1;33m\u001b[0m\u001b[0m\n\u001b[1;32m---> 16\u001b[1;33m \u001b[0mprint\u001b[0m\u001b[1;33m(\u001b[0m\u001b[0mfirst\u001b[0m\u001b[1;33m(\u001b[0m\u001b[1;33m{\u001b[0m\u001b[1;33m}\u001b[0m\u001b[1;33m)\u001b[0m\u001b[1;33m)\u001b[0m\u001b[1;33m\u001b[0m\u001b[1;33m\u001b[0m\u001b[0m\n\u001b[0m",
                        "\u001b[1;32m<ipython-input-17-d337d7015bf6>\u001b[0m in \u001b[0;36mfirst\u001b[1;34m(iterable)\u001b[0m\n\u001b[0;32m     11\u001b[0m         \u001b[1;32mreturn\u001b[0m \u001b[0mnext\u001b[0m\u001b[1;33m(\u001b[0m\u001b[0miterator\u001b[0m\u001b[1;33m)\u001b[0m\u001b[1;33m\u001b[0m\u001b[1;33m\u001b[0m\u001b[0m\n\u001b[0;32m     12\u001b[0m     \u001b[1;32mexcept\u001b[0m \u001b[0mStopIteration\u001b[0m\u001b[1;33m:\u001b[0m\u001b[1;33m\u001b[0m\u001b[1;33m\u001b[0m\u001b[0m\n\u001b[1;32m---> 13\u001b[1;33m         \u001b[1;32mraise\u001b[0m \u001b[0mValueError\u001b[0m\u001b[1;33m(\u001b[0m\u001b[1;34m\"iterable is empty\"\u001b[0m\u001b[1;33m)\u001b[0m\u001b[1;33m\u001b[0m\u001b[1;33m\u001b[0m\u001b[0m\n\u001b[0m\u001b[0;32m     14\u001b[0m \u001b[1;33m\u001b[0m\u001b[0m\n\u001b[0;32m     15\u001b[0m \u001b[0mprint\u001b[0m\u001b[1;33m(\u001b[0m\u001b[0mfirst\u001b[0m\u001b[1;33m(\u001b[0m\u001b[1;33m[\u001b[0m\u001b[1;36m1\u001b[0m\u001b[1;33m,\u001b[0m \u001b[1;36m2\u001b[0m\u001b[1;33m,\u001b[0m \u001b[1;36m3\u001b[0m\u001b[1;33m]\u001b[0m\u001b[1;33m)\u001b[0m\u001b[1;33m)\u001b[0m\u001b[1;33m\u001b[0m\u001b[1;33m\u001b[0m\u001b[0m\n",
                        "\u001b[1;31mValueError\u001b[0m: iterable is empty"
                    ]
                }
            ],
            "metadata": {}
        },
        {
            "cell_type": "markdown",
            "source": [
                "# Generators"
            ],
            "metadata": {}
        },
        {
            "cell_type": "code",
            "execution_count": 24,
            "source": [
                "def gen123():\r\n",
                "    yield 1\r\n",
                "    yield 2\r\n",
                "    yield 3\r\n",
                "\r\n",
                "g = gen123()\r\n",
                "print(next(g))\r\n",
                "print(next(g))\r\n",
                "\r\n",
                "for v in gen123():\r\n",
                "    print(v)\r\n",
                "\r\n",
                "\r\n",
                "def distinct(iterable):\r\n",
                "    seen = set()\r\n",
                "    for item in iterable:\r\n",
                "        if item in seen:\r\n",
                "            continue\r\n",
                "        yield item\r\n",
                "        seen.add(item)\r\n",
                "\r\n",
                "def take(count, iterable):\r\n",
                "    counter = 0\r\n",
                "    for item in iterable:\r\n",
                "        if counter == count:\r\n",
                "            return\r\n",
                "        counter += 1\r\n",
                "        yield item\r\n",
                "\r\n",
                "def run_pipeline():\r\n",
                "    items = [3, 6, 6, 2, 1, 1]\r\n",
                "    for item in take(3, distinct(items)):\r\n",
                "        print(item)\r\n",
                "run_pipeline()\r\n",
                "\r\n",
                "\r\n",
                "# generator expression\r\n",
                "million_squares = (x * x for x in range(1, 100001)) # looks very similar to comprehensions\r\n",
                "print(list(take(5, million_squares)))\r\n",
                "\r\n"
            ],
            "outputs": [
                {
                    "output_type": "stream",
                    "name": "stdout",
                    "text": [
                        "1\n",
                        "2\n",
                        "1\n",
                        "2\n",
                        "3\n",
                        "3\n",
                        "6\n",
                        "2\n",
                        "[1, 4, 9, 16, 25]\n"
                    ]
                }
            ],
            "metadata": {}
        }
    ],
    "metadata": {
        "orig_nbformat": 4,
        "language_info": {
            "name": "python",
            "version": "3.7.11",
            "mimetype": "text/x-python",
            "codemirror_mode": {
                "name": "ipython",
                "version": 3
            },
            "pygments_lexer": "ipython3",
            "nbconvert_exporter": "python",
            "file_extension": ".py"
        },
        "kernelspec": {
            "name": "python3",
            "display_name": "Python 3.7.11 64-bit ('py3.7': conda)"
        },
        "interpreter": {
            "hash": "5c71e6c5fb7b4d10dd08e31beb1aa785ad33b7dbf63d795cc378ce2ea18e0629"
        }
    },
    "nbformat": 4,
    "nbformat_minor": 2
}