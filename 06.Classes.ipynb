{
    "cells": [
        {
            "cell_type": "code",
            "execution_count": 3,
            "source": [
                "class Flight:\r\n",
                "    pass\r\n",
                "\r\n",
                "f = Flight()\r\n",
                "print(type(f))"
            ],
            "outputs": [
                {
                    "output_type": "stream",
                    "name": "stdout",
                    "text": [
                        "<class '__main__.Flight'>\n"
                    ]
                }
            ],
            "metadata": {}
        },
        {
            "cell_type": "code",
            "execution_count": 4,
            "source": [
                "class Flight:\r\n",
                "\r\n",
                "    def number(self):\r\n",
                "        return \"SN060\"\r\n",
                "\r\n",
                "f = Flight()\r\n",
                "print(f.number())"
            ],
            "outputs": [
                {
                    "output_type": "stream",
                    "name": "stdout",
                    "text": [
                        "SN060\n"
                    ]
                }
            ],
            "metadata": {}
        },
        {
            "cell_type": "code",
            "execution_count": 6,
            "source": [
                "class Flight:\r\n",
                "\r\n",
                "    def __init__(self, number):\r\n",
                "        self._number = number\r\n",
                "    \r\n",
                "\r\n",
                "    def number(self):\r\n",
                "        return self._number\r\n",
                "\r\n",
                "f = Flight(\"ABCd\")\r\n",
                "print(f.number())"
            ],
            "outputs": [
                {
                    "output_type": "stream",
                    "name": "stdout",
                    "text": [
                        "ABCd\n"
                    ]
                }
            ],
            "metadata": {}
        },
        {
            "cell_type": "code",
            "execution_count": 7,
            "source": [
                "class Flight:\r\n",
                "\r\n",
                "    def __init__(self, number):\r\n",
                "        if not number[:2].isalpha():\r\n",
                "            raise ValueError(f\"No airline code in '{number}'\")\r\n",
                "\r\n",
                "        if not number[:2].isupper():\r\n",
                "            raise ValueError(f\"Invalid airline code '{number}'\")\r\n",
                "\r\n",
                "        if not number[2:].isdigit() and int(number[2:]) <= 9999:\r\n",
                "            raise ValueError(f\"Invalid route number '{number}'\")\r\n",
                "\r\n",
                "\r\n",
                "        self._number = number\r\n",
                "    \r\n",
                "\r\n",
                "    def number(self):\r\n",
                "        return self._number\r\n",
                "\r\n",
                "f = Flight(\"SN060\")\r\n",
                "print(f.number())"
            ],
            "outputs": [
                {
                    "output_type": "stream",
                    "name": "stdout",
                    "text": [
                        "SN060\n"
                    ]
                }
            ],
            "metadata": {}
        },
        {
            "cell_type": "code",
            "execution_count": 8,
            "source": [
                "class Aircraft:\r\n",
                "\r\n",
                "    def __init__(self, registration, model, num_rows, num_seats_per_row):\r\n",
                "        self._registration = registration\r\n",
                "        self._model = model\r\n",
                "        self._num_rows = num_rows\r\n",
                "        self._num_seats_per_row = num_seats_per_row\r\n",
                "\r\n",
                "    def registration(self):\r\n",
                "        return self._registration\r\n",
                "    \r\n",
                "    def model(self):\r\n",
                "        return self._model\r\n",
                "    \r\n",
                "    def seating_plan(self):\r\n",
                "        return (range(1, self._num_rows + 1),\r\n",
                "                \"ABCDEFGHJK\"[:self._num_seats_per_row])\r\n",
                "\r\n",
                "a = Aircraft(\"G-EUPT\", \"Airbus A319\", num_rows=22, num_seats_per_row=6)\r\n",
                "print(a.seating_plan())\r\n",
                "\r\n"
            ],
            "outputs": [
                {
                    "output_type": "stream",
                    "name": "stdout",
                    "text": [
                        "(range(1, 23), 'ABCDEF')\n"
                    ]
                }
            ],
            "metadata": {}
        },
        {
            "cell_type": "code",
            "execution_count": 13,
            "source": [
                "class Flight:\r\n",
                "    \"\"\"A flight with a particular passenger aircraft\"\"\"\r\n",
                "\r\n",
                "    def __init__(self, number, aircraft):\r\n",
                "        if not number[:2].isalpha():\r\n",
                "            raise ValueError(f\"No airline code in '{number}'\")\r\n",
                "\r\n",
                "        if not number[:2].isupper():\r\n",
                "            raise ValueError(f\"Invalid airline code '{number}'\")\r\n",
                "\r\n",
                "        if not number[2:].isdigit() and int(number[2:]) <= 9999:\r\n",
                "            raise ValueError(f\"Invalid route number '{number}'\")\r\n",
                "\r\n",
                "        self._number = number\r\n",
                "        self._aircraft = aircraft\r\n",
                "        rows, seats = self._aircraft.seating_plan()\r\n",
                "        self._seting = [None] + [{letter: None for letter in seats} for _ in rows]\r\n",
                "\r\n",
                "    def number(self):\r\n",
                "        return self._number\r\n",
                "\r\n",
                "    def aircraft_model(self):\r\n",
                "        return self._aircraft.model()\r\n",
                "\r\n",
                "f = Flight(\"SN060\", a)\r\n",
                "print(f.aircraft_model())\r\n",
                "from pprint import pprint as pp\r\n",
                "pp(f._seting)"
            ],
            "outputs": [
                {
                    "output_type": "stream",
                    "name": "stdout",
                    "text": [
                        "Airbus A319\n",
                        "[None,\n",
                        " {'A': None, 'B': None, 'C': None, 'D': None, 'E': None, 'F': None},\n",
                        " {'A': None, 'B': None, 'C': None, 'D': None, 'E': None, 'F': None},\n",
                        " {'A': None, 'B': None, 'C': None, 'D': None, 'E': None, 'F': None},\n",
                        " {'A': None, 'B': None, 'C': None, 'D': None, 'E': None, 'F': None},\n",
                        " {'A': None, 'B': None, 'C': None, 'D': None, 'E': None, 'F': None},\n",
                        " {'A': None, 'B': None, 'C': None, 'D': None, 'E': None, 'F': None},\n",
                        " {'A': None, 'B': None, 'C': None, 'D': None, 'E': None, 'F': None},\n",
                        " {'A': None, 'B': None, 'C': None, 'D': None, 'E': None, 'F': None},\n",
                        " {'A': None, 'B': None, 'C': None, 'D': None, 'E': None, 'F': None},\n",
                        " {'A': None, 'B': None, 'C': None, 'D': None, 'E': None, 'F': None},\n",
                        " {'A': None, 'B': None, 'C': None, 'D': None, 'E': None, 'F': None},\n",
                        " {'A': None, 'B': None, 'C': None, 'D': None, 'E': None, 'F': None},\n",
                        " {'A': None, 'B': None, 'C': None, 'D': None, 'E': None, 'F': None},\n",
                        " {'A': None, 'B': None, 'C': None, 'D': None, 'E': None, 'F': None},\n",
                        " {'A': None, 'B': None, 'C': None, 'D': None, 'E': None, 'F': None},\n",
                        " {'A': None, 'B': None, 'C': None, 'D': None, 'E': None, 'F': None},\n",
                        " {'A': None, 'B': None, 'C': None, 'D': None, 'E': None, 'F': None},\n",
                        " {'A': None, 'B': None, 'C': None, 'D': None, 'E': None, 'F': None},\n",
                        " {'A': None, 'B': None, 'C': None, 'D': None, 'E': None, 'F': None},\n",
                        " {'A': None, 'B': None, 'C': None, 'D': None, 'E': None, 'F': None},\n",
                        " {'A': None, 'B': None, 'C': None, 'D': None, 'E': None, 'F': None},\n",
                        " {'A': None, 'B': None, 'C': None, 'D': None, 'E': None, 'F': None}]\n"
                    ]
                }
            ],
            "metadata": {}
        }
    ],
    "metadata": {
        "orig_nbformat": 4,
        "language_info": {
            "name": "python",
            "version": "3.7.11",
            "mimetype": "text/x-python",
            "codemirror_mode": {
                "name": "ipython",
                "version": 3
            },
            "pygments_lexer": "ipython3",
            "nbconvert_exporter": "python",
            "file_extension": ".py"
        },
        "kernelspec": {
            "name": "python3",
            "display_name": "Python 3.7.11 64-bit ('py3.7': conda)"
        },
        "interpreter": {
            "hash": "5c71e6c5fb7b4d10dd08e31beb1aa785ad33b7dbf63d795cc378ce2ea18e0629"
        }
    },
    "nbformat": 4,
    "nbformat_minor": 2
}