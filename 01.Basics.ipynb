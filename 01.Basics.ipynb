{
    "cells": [
        {
            "cell_type": "markdown",
            "source": [
                "# Basics"
            ],
            "metadata": {}
        },
        {
            "cell_type": "markdown",
            "source": [
                "## Python int conversion seemingly floor-rounds integers:"
            ],
            "metadata": {}
        },
        {
            "cell_type": "code",
            "execution_count": 1,
            "source": [
                "print(f\"3.1 -> {int(3.1)}, 3.5 -> {int(3.5)}, 3.9 -> {int(3.9)}\")\r\n"
            ],
            "outputs": [
                {
                    "output_type": "stream",
                    "name": "stdout",
                    "text": [
                        "3.1 -> 3, 3.5 -> 3, 3.9 -> 3\n"
                    ]
                }
            ],
            "metadata": {}
        },
        {
            "cell_type": "markdown",
            "source": [
                "## Booleans"
            ],
            "metadata": {}
        },
        {
            "cell_type": "code",
            "execution_count": 2,
            "source": [
                "# Notice that True and False are capitalized\r\n",
                "this_is_true = True\r\n",
                "this_is_false = False\r\n",
                "print(f\"True as an int: {int(this_is_true)}, True as a string: {str(this_is_true)}\")\r\n",
                "print(f\"False as an int: {int(this_is_false)}, False as a string: {str(this_is_false)}\")\r\n"
            ],
            "outputs": [
                {
                    "output_type": "stream",
                    "name": "stdout",
                    "text": [
                        "True as an int: 1, True as a string: True\n",
                        "False as an int: 0, False as a string: False\n"
                    ]
                }
            ],
            "metadata": {}
        },
        {
            "cell_type": "markdown",
            "source": [
                "## If Statements"
            ],
            "metadata": {}
        },
        {
            "cell_type": "code",
            "execution_count": 3,
            "source": [
                "number = 5\r\n",
                "if number == 5:\r\n",
                "    print(\"Number is 5\")\r\n",
                "else:\r\n",
                "    print(\"Number is NOT 5\")\r\n",
                "\r\n",
                "text = \"Python has 'truthy' values kind of like JavaScript\"\r\n",
                "if number:\r\n",
                "    print(\"Number is defined and truthy\")\r\n",
                "if text:\r\n",
                "    print(\"Text is defined and truthy\")\r\n",
                "if None:\r\n",
                "    print(\"This will NOT execute\")\r\n",
                "\r\n",
                "# Negation\r\n",
                "if 5 != 5:\r\n",
                "    print(\"This will NOT execute\")\r\n",
                "if not True:\r\n",
                "    print(\"This will also NOT execute\")\r\n",
                "\r\n",
                "# Multiple If Conditions\r\n",
                "number = 3\r\n",
                "python_course = True\r\n",
                "if number == 3 and python_course:\r\n",
                "    print(\"This will execute\")\r\n",
                "\r\n",
                "if number == 17 or python_course:\r\n",
                "    print(\"This will also execute\")\r\n",
                "\r\n",
                "# Ternary\r\n",
                "a = 1\r\n",
                "b = 2\r\n",
                "print(\"bigger\" if a > b else \"smaller\")"
            ],
            "outputs": [
                {
                    "output_type": "stream",
                    "name": "stdout",
                    "text": [
                        "Number is 5\n",
                        "Number is defined and truthy\n",
                        "Text is defined and truthy\n",
                        "This will execute\n",
                        "This will also execute\n",
                        "smaller\n"
                    ]
                }
            ],
            "metadata": {}
        },
        {
            "cell_type": "markdown",
            "source": [
                "## Lists"
            ],
            "metadata": {}
        },
        {
            "cell_type": "code",
            "execution_count": 4,
            "source": [
                "# Empty list\r\n",
                "student_names = []\r\n",
                "# Non-empty list\r\n",
                "student_names = [\"Mark\", \"Katarina\", \"Jessica\"]\r\n",
                "\r\n",
                "print(f\"First 2 students from the list: {student_names[0]} and {student_names[1]}\")\r\n",
                "print(f\"Last student in the list is {student_names[-1]}\")\r\n",
                "\r\n",
                "student_names.append(\"Homer\")\r\n",
                "print(student_names)\r\n",
                "print(\"Mark\" in student_names == True)\r\n",
                "print(f\"List length is {len(student_names)}\")\r\n",
                "\r\n",
                "# supports multiple types in the same list\r\n",
                "student_names.append(666)\r\n",
                "\r\n",
                "del student_names[2]\r\n",
                "print(f\"List after del: {student_names}\")\r\n",
                "\r\n",
                "print(f\"List slicing: {student_names[1:]}, {student_names[1:-1]}\")\r\n",
                "\r\n"
            ],
            "outputs": [
                {
                    "output_type": "stream",
                    "name": "stdout",
                    "text": [
                        "First 2 students from the list: Mark and Katarina\n",
                        "Last student in the list is Jessica\n",
                        "['Mark', 'Katarina', 'Jessica', 'Homer']\n",
                        "False\n",
                        "List length is 4\n",
                        "List after del: ['Mark', 'Katarina', 'Homer', 666]\n",
                        "List slicing: ['Katarina', 'Homer', 666], ['Katarina', 'Homer']\n"
                    ]
                }
            ],
            "metadata": {}
        },
        {
            "cell_type": "markdown",
            "source": [
                "## Loops"
            ],
            "metadata": {}
        },
        {
            "cell_type": "code",
            "execution_count": 5,
            "source": [
                "student_names = [\"Mark\", \"Katarina\", \"Jessica\"]\r\n",
                "for name in student_names:\r\n",
                "    print(\"Student name is {0}\".format(name))\r\n",
                "\r\n",
                "# range(10)\r\n",
                "# range(5, 10)\r\n",
                "# range(5, 10, 2)\r\n",
                "\r\n",
                "student_names = [\"James\", \"Katarina\", \"Jessica\", \"Mark\", \"Bort\", \"Frank Grimes\", \"Max Power\"]\r\n",
                "for name in student_names:\r\n",
                "    if name == \"Mark\":\r\n",
                "        print(\"Found him! \" + name)\r\n",
                "        break\r\n",
                "    print(\"Currently testing \" + name)\r\n",
                "\r\n",
                "for name in student_names:\r\n",
                "    if name == \"Bort\":\r\n",
                "        continue\r\n",
                "    print(\"Currently testing \" + name)\r\n",
                "\r\n",
                "x = 0\r\n",
                "while x < 3:\r\n",
                "    print(\"Count is {0}\".format(x))\r\n",
                "    x += 1\r\n"
            ],
            "outputs": [
                {
                    "output_type": "stream",
                    "name": "stdout",
                    "text": [
                        "Student name is Mark\n",
                        "Student name is Katarina\n",
                        "Student name is Jessica\n",
                        "Currently testing James\n",
                        "Currently testing Katarina\n",
                        "Currently testing Jessica\n",
                        "Found him! Mark\n",
                        "Currently testing James\n",
                        "Currently testing Katarina\n",
                        "Currently testing Jessica\n",
                        "Currently testing Mark\n",
                        "Currently testing Frank Grimes\n",
                        "Currently testing Max Power\n",
                        "Count is 0\n",
                        "Count is 1\n",
                        "Count is 2\n"
                    ]
                }
            ],
            "metadata": {}
        },
        {
            "cell_type": "markdown",
            "source": [
                "## Dictionaries"
            ],
            "metadata": {}
        },
        {
            "cell_type": "code",
            "execution_count": 10,
            "source": [
                "student = {\r\n",
                "    \"name\": \"Mark\",\r\n",
                "    \"student_id\": 15163,\r\n",
                "    \"feedback\": None\r\n",
                "}\r\n",
                "\r\n",
                "all_students = [\r\n",
                "    {\"name\": \"Mark\", \"student_id\": 15163},\r\n",
                "    {\"name\": \"Katarina\", \"student_id\": 63112},\r\n",
                "    {\"name\": \"Jessica\", \"student_id\": 30021}\r\n",
                "]\r\n",
                "\r\n",
                "print(f\"Student name is {student['name']}\")\r\n",
                "print(f\"student last name is {student.get('lastname', 'Unknown last name')}\")\r\n",
                "print(student.keys())\r\n",
                "print(student.values())\r\n",
                "del student[\"name\"]\r\n",
                "print(student)"
            ],
            "outputs": [
                {
                    "output_type": "stream",
                    "name": "stdout",
                    "text": [
                        "Student name is Mark\n",
                        "student last name is Unknown last name\n",
                        "dict_keys(['name', 'student_id', 'feedback'])\n",
                        "dict_values(['Mark', 15163, None])\n",
                        "{'student_id': 15163, 'feedback': None}\n"
                    ]
                }
            ],
            "metadata": {}
        },
        {
            "cell_type": "markdown",
            "source": [
                "## Exceptions"
            ],
            "metadata": {}
        },
        {
            "cell_type": "code",
            "execution_count": 4,
            "source": [
                "student = {\r\n",
                "    \"name\": \"Mark\",\r\n",
                "    \"student_id\": 15163,\r\n",
                "    \"feedback\": None\r\n",
                "}\r\n",
                "\r\n",
                "try:\r\n",
                "    print(student[\"last_name\"])\r\n",
                "except KeyError:\r\n",
                "    print(\"no key 'last_name' in the dictionary\")\r\n",
                "\r\n",
                "student[\"last_name\"] = \"Lyeshchenko\"\r\n",
                "try:\r\n",
                "    last_name = student[\"last_name\"]\r\n",
                "    numbered_last_name = 3 + last_name\r\n",
                "except KeyError:\r\n",
                "    print(\"shouldn't be there as we added last_name key\")\r\n",
                "except TypeError:\r\n",
                "    print(\"I can't add this two together\")\r\n",
                "except Exception:\r\n",
                "    print(\"Catch all exception handler - will not be called since more specific TypeError will catch it\")\r\n",
                "\r\n",
                "try:\r\n",
                "    last_name = student[\"last_name\"]\r\n",
                "    numbered_last_name = 3 + last_name\r\n",
                "except KeyError:\r\n",
                "    print(\"shouldn't be there as we added last_name key\")\r\n",
                "except TypeError as error:\r\n",
                "    print(f\"the error is: {error}\")\r\n",
                "\r\n",
                "\r\n",
                "try:\r\n",
                "    last_name = student[\"last_name\"]\r\n",
                "    numbered_last_name = 3 + last_name\r\n",
                "except (KeyError, TypeError) as errror:\r\n",
                "    pass\r\n",
                "finally:\r\n",
                "    print(\"'pass' only exists for noop body of except block\")\r\n",
                "\r\n",
                "\r\n",
                "try:\r\n",
                "    last_name = student[\"last_name\"]\r\n",
                "    numbered_last_name = 3 + last_name\r\n",
                "except (KeyError, TypeError) as errror:\r\n",
                "    raise"
            ],
            "outputs": [
                {
                    "output_type": "stream",
                    "name": "stdout",
                    "text": [
                        "no key 'last_name' in the dictionary\n",
                        "I can't add this two together\n",
                        "the error is: unsupported operand type(s) for +: 'int' and 'str'\n",
                        "'pass' only exists for noop body of except block\n"
                    ]
                },
                {
                    "output_type": "error",
                    "ename": "TypeError",
                    "evalue": "unsupported operand type(s) for +: 'int' and 'str'",
                    "traceback": [
                        "\u001b[1;31m---------------------------------------------------------------------------\u001b[0m",
                        "\u001b[1;31mTypeError\u001b[0m                                 Traceback (most recent call last)",
                        "\u001b[1;32m<ipython-input-4-57e73eda1953>\u001b[0m in \u001b[0;36m<module>\u001b[1;34m\u001b[0m\n\u001b[0;32m     41\u001b[0m \u001b[1;32mtry\u001b[0m\u001b[1;33m:\u001b[0m\u001b[1;33m\u001b[0m\u001b[1;33m\u001b[0m\u001b[0m\n\u001b[0;32m     42\u001b[0m     \u001b[0mlast_name\u001b[0m \u001b[1;33m=\u001b[0m \u001b[0mstudent\u001b[0m\u001b[1;33m[\u001b[0m\u001b[1;34m\"last_name\"\u001b[0m\u001b[1;33m]\u001b[0m\u001b[1;33m\u001b[0m\u001b[1;33m\u001b[0m\u001b[0m\n\u001b[1;32m---> 43\u001b[1;33m     \u001b[0mnumbered_last_name\u001b[0m \u001b[1;33m=\u001b[0m \u001b[1;36m3\u001b[0m \u001b[1;33m+\u001b[0m \u001b[0mlast_name\u001b[0m\u001b[1;33m\u001b[0m\u001b[1;33m\u001b[0m\u001b[0m\n\u001b[0m\u001b[0;32m     44\u001b[0m \u001b[1;32mexcept\u001b[0m \u001b[1;33m(\u001b[0m\u001b[0mKeyError\u001b[0m\u001b[1;33m,\u001b[0m \u001b[0mTypeError\u001b[0m\u001b[1;33m)\u001b[0m \u001b[1;32mas\u001b[0m \u001b[0merrror\u001b[0m\u001b[1;33m:\u001b[0m\u001b[1;33m\u001b[0m\u001b[1;33m\u001b[0m\u001b[0m\n\u001b[0;32m     45\u001b[0m     \u001b[1;32mraise\u001b[0m\u001b[1;33m\u001b[0m\u001b[1;33m\u001b[0m\u001b[0m\n",
                        "\u001b[1;31mTypeError\u001b[0m: unsupported operand type(s) for +: 'int' and 'str'"
                    ]
                }
            ],
            "metadata": {}
        },
        {
            "cell_type": "markdown",
            "source": [
                "## Other data types\r\n",
                "- complex\r\n",
                "- bytes and bytearray\r\n",
                "- tuple = (3, 5, 1, \"Mark\") #immutable\r\n",
                "- set and frozenset # set([3, 2, 3, 3, 1, 5]) == (1, 2, 3, 5)"
            ],
            "metadata": {}
        }
    ],
    "metadata": {
        "orig_nbformat": 4,
        "language_info": {
            "name": "python",
            "version": "3.7.11",
            "mimetype": "text/x-python",
            "codemirror_mode": {
                "name": "ipython",
                "version": 3
            },
            "pygments_lexer": "ipython3",
            "nbconvert_exporter": "python",
            "file_extension": ".py"
        },
        "kernelspec": {
            "name": "python3",
            "display_name": "Python 3.7.11 64-bit ('py3.7': conda)"
        },
        "interpreter": {
            "hash": "5c71e6c5fb7b4d10dd08e31beb1aa785ad33b7dbf63d795cc378ce2ea18e0629"
        }
    },
    "nbformat": 4,
    "nbformat_minor": 2
}