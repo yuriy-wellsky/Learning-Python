{
 "cells": [
  {
   "cell_type": "code",
   "execution_count": 6,
   "source": [
    "print(\"Hello World\")\r\n",
    "str(3)\r\n",
    "int(\"15\")\r\n",
    "username = input(\"Enter your name:\")\r\n",
    "print(f\"Hello {username}\")"
   ],
   "outputs": [
    {
     "output_type": "stream",
     "name": "stdout",
     "text": [
      "Hello World\n",
      "Hello Yuriy\n"
     ]
    }
   ],
   "metadata": {}
  },
  {
   "cell_type": "code",
   "execution_count": 14,
   "source": [
    "students = []\r\n",
    "\r\n",
    "def add_student(name, id = 332):\r\n",
    "    student = {\"name\": name, \"student_id\": id}\r\n",
    "    students.append(student)\r\n",
    "\r\n",
    "add_student(\"Mark\")\r\n",
    "add_student(\"Yuriy\", 15)\r\n",
    "add_student(name=\"Darya\", id=78)\r\n",
    "print(students)\r\n",
    "\r\n",
    "def variable_number_of_arguments(name, *args):\r\n",
    "    print(name)\r\n",
    "    print(args)\r\n",
    "\r\n",
    "variable_number_of_arguments(\"Mark\", \"loves python\", 33, None, True)\r\n",
    "\r\n",
    "def var_args(name, **kwargs):\r\n",
    "    print(name + \" \" + kwargs[\"description\"] + \", feedback is \" + str(kwargs[\"feedback\"]))\r\n",
    "    print(kwargs)\r\n",
    "\r\n",
    "var_args(\"Mark\", description=\"loves python\", age=33, feedback = None, loves_cooking=True)"
   ],
   "outputs": [
    {
     "output_type": "stream",
     "name": "stdout",
     "text": [
      "[{'name': 'Mark', 'student_id': 332}, {'name': 'Yuriy', 'student_id': 15}, {'name': 'Darya', 'student_id': 78}]\n",
      "Mark\n",
      "('loves python', 33, None, True)\n",
      "Mark loves python, feedback is None\n",
      "{'description': 'loves python', 'age': 33, 'feedback': None, 'loves_cooking': True}\n"
     ]
    }
   ],
   "metadata": {}
  },
  {
   "cell_type": "code",
   "execution_count": 16,
   "source": [
    "students = []\r\n",
    "\r\n",
    "def get_student_titlecase():\r\n",
    "    students_titlecase = []\r\n",
    "    for student in students:\r\n",
    "        students_titlecase = student[\"name\"].title()\r\n",
    "    return students_titlecase\r\n",
    "\r\n",
    "def print_students_titlecase():\r\n",
    "    students_titlecase = get_student_titlecase()\r\n",
    "    print(students_titlecase)\r\n",
    "\r\n",
    "def add_student(name, student_id = 332):\r\n",
    "    student = {\"name\": name, \"student_id\": id}\r\n",
    "    students.append(student)\r\n",
    "\r\n",
    "student_name = input(\"Enter student name: \")\r\n",
    "student_id = input(\"Enter student ID: \")\r\n",
    "\r\n",
    "add_student(student_name, student_id)\r\n",
    "print_students_titlecase()"
   ],
   "outputs": [
    {
     "output_type": "stream",
     "name": "stdout",
     "text": [
      "Yuriy\n"
     ]
    }
   ],
   "metadata": {}
  },
  {
   "cell_type": "code",
   "execution_count": 1,
   "source": [
    "def banner(message, border = '-'):\r\n",
    "    line = border * len(message)\r\n",
    "    print(line)\r\n",
    "    print(message)\r\n",
    "    print(line)\r\n",
    "\r\n",
    "banner(\"Some message\")\r\n",
    "banner(\"Some message\", '*')\r\n",
    "banner(\"Some message\", border='+')"
   ],
   "outputs": [
    {
     "output_type": "stream",
     "name": "stdout",
     "text": [
      "------------\n",
      "Some message\n",
      "------------\n",
      "************\n",
      "Some message\n",
      "************\n",
      "++++++++++++\n",
      "Some message\n",
      "++++++++++++\n"
     ]
    }
   ],
   "metadata": {}
  }
 ],
 "metadata": {
  "orig_nbformat": 4,
  "language_info": {
   "name": "python",
   "version": "3.7.11",
   "mimetype": "text/x-python",
   "codemirror_mode": {
    "name": "ipython",
    "version": 3
   },
   "pygments_lexer": "ipython3",
   "nbconvert_exporter": "python",
   "file_extension": ".py"
  },
  "kernelspec": {
   "name": "python3",
   "display_name": "Python 3.7.11 64-bit ('py3.7': conda)"
  },
  "interpreter": {
   "hash": "5c71e6c5fb7b4d10dd08e31beb1aa785ad33b7dbf63d795cc378ce2ea18e0629"
  }
 },
 "nbformat": 4,
 "nbformat_minor": 2
}