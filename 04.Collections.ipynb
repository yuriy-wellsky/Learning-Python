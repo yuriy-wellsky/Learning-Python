{
 "cells": [
  {
   "cell_type": "markdown",
   "source": [
    "# Tuple"
   ],
   "metadata": {}
  },
  {
   "cell_type": "code",
   "execution_count": 16,
   "source": [
    "t = (\"Norway\", 4.953, 3)\r\n",
    "print(t)\r\n",
    "print(t[0])\r\n",
    "print(f\"length is {len(t)}\")\r\n",
    "for item in t:\r\n",
    "    print(item)\r\n",
    "\r\n",
    "print(t + (38923.32, \"new items\"))\r\n",
    "print(f\"repeated tuple: {t * 3}\")\r\n",
    "\r\n",
    "num = (123)\r\n",
    "tup = (123,)\r\n",
    "print(f\"number {type(num)} vs typle {type(tup)}\")\r\n",
    "\r\n",
    "emptyTuple = ()\r\n",
    "parens_can_be_ommited = 1, 2, 3, 4\r\n",
    "\r\n",
    "a = \"first\"\r\n",
    "b = \"second\"\r\n",
    "a, b = b, a\r\n",
    "print(f\"a is {a}, b is {b}\")\r\n",
    "\r\n",
    "print(3 in t)"
   ],
   "outputs": [
    {
     "output_type": "stream",
     "name": "stdout",
     "text": [
      "('Norway', 4.953, 3)\n",
      "Norway\n",
      "length is 3\n",
      "Norway\n",
      "4.953\n",
      "3\n",
      "('Norway', 4.953, 3, 38923.32, 'new items')\n",
      "repeated tuple: ('Norway', 4.953, 3, 'Norway', 4.953, 3, 'Norway', 4.953, 3)\n",
      "number <class 'int'> vs typle <class 'tuple'>\n",
      "a is second, b is first\n",
      "True\n"
     ]
    }
   ],
   "metadata": {}
  },
  {
   "cell_type": "markdown",
   "source": [
    "# Strings"
   ],
   "metadata": {}
  },
  {
   "cell_type": "markdown",
   "source": [
    "## Prefer string.join over + to avoid creation of temporary strings"
   ],
   "metadata": {}
  },
  {
   "cell_type": "code",
   "execution_count": 18,
   "source": [
    "worse = \"ab\" + \"cd\" + \"efg\"\r\n",
    "better = \"\".join([\"ab\", \"cd\", \"efg\"])\r\n",
    "print(worse, better)"
   ],
   "outputs": [
    {
     "output_type": "stream",
     "name": "stdout",
     "text": [
      "abcdefg abcdefg\n"
     ]
    }
   ],
   "metadata": {}
  },
  {
   "cell_type": "markdown",
   "source": [
    "## partitoining"
   ],
   "metadata": {}
  },
  {
   "cell_type": "code",
   "execution_count": 20,
   "source": [
    "print(\"unforgetable\".partition('forget'))\r\n",
    "departure, _, arrival = \"Kansas City:New York\".partition(\":\")\r\n",
    "print(f\"Departure from {departure}, arrival at {arrival}\")"
   ],
   "outputs": [
    {
     "output_type": "stream",
     "name": "stdout",
     "text": [
      "('un', 'forget', 'able')\n",
      "Departure from Kansas City, arrival at New York\n"
     ]
    }
   ],
   "metadata": {}
  },
  {
   "cell_type": "markdown",
   "source": [
    "## format"
   ],
   "metadata": {}
  },
  {
   "cell_type": "code",
   "execution_count": 28,
   "source": [
    "print(\"The age of {0} is {1}\".format('Jim', 32))\r\n",
    "print(\"The age of {0} is {1}. {0}'s birthday is on {2}\".format('Fred', 24, 'October 31'))\r\n",
    "print(\"Current position {latitude} {longitude}\".format(latitude=\"60N\", longitude=\"5E\"))\r\n",
    "print(\"Galactic position x={pos[0]}, y={pos[1]}, z={pos[2]}\".format(pos=(65.2, 23.1, 82.2)))\r\n",
    "import math\r\n",
    "print(\"Math constants: {m.pi}, {m.e}\".format(m=math))\r\n",
    "print(\"Math constants: {m.pi:.3f}, {m.e:.3f}\".format(m=math))\r\n",
    "\r\n",
    "#interpolation\r\n",
    "print(f\"Math constants: {math.pi:.3f}, {math.e:.3f}\")"
   ],
   "outputs": [
    {
     "output_type": "stream",
     "name": "stdout",
     "text": [
      "The age of Jim is 32\n",
      "The age of Fred is 24. Fred's birthday is on October 31\n",
      "Current position 60N 5E\n",
      "Galactic position x=65.2, y=23.1, z=82.2\n",
      "Math constants: 3.141592653589793, 2.718281828459045\n",
      "Math constants: 3.142, 2.718\n",
      "Math constants: 3.142, 2.718\n"
     ]
    }
   ],
   "metadata": {}
  },
  {
   "cell_type": "markdown",
   "source": [
    "# Ranges"
   ],
   "metadata": {}
  },
  {
   "cell_type": "code",
   "execution_count": 31,
   "source": [
    "print(list(range(5)))\r\n",
    "print(list(range(5,10)))\r\n",
    "print(list(range(5, 10, 2)))\r\n",
    "\r\n",
    "for i, v in enumerate(range(3)):\r\n",
    "    print(f\"index is {i}, value is {v}\")"
   ],
   "outputs": [
    {
     "output_type": "stream",
     "name": "stdout",
     "text": [
      "[0, 1, 2, 3, 4]\n",
      "[5, 6, 7, 8, 9]\n",
      "[5, 7, 9]\n",
      "index is 0, value is 0\n",
      "index is 1, value is 1\n",
      "index is 2, value is 2\n"
     ]
    }
   ],
   "metadata": {}
  },
  {
   "cell_type": "markdown",
   "source": [
    "# Lists"
   ],
   "metadata": {}
  },
  {
   "cell_type": "code",
   "execution_count": 38,
   "source": [
    "s = [3, 186, 4431, 74440, 1048443]\r\n",
    "print(s)\r\n",
    "print(f\"first: {s[0]}, last: {s[-1]}, be careful with negative zero: s[0] == s[-0] is {s[0] == s[-0]}\")\r\n",
    "print(s[1:-1])\r\n",
    "copy = s[:]\r\n",
    "print(id(s) == id(copy))\r\n",
    "copy2 = s.copy()\r\n",
    "copy3 = list(s)\r\n"
   ],
   "outputs": [
    {
     "output_type": "stream",
     "name": "stdout",
     "text": [
      "[3, 186, 4431, 74440, 1048443]\n",
      "first: 3, last: 1048443, be careful with negative zero: s[0] == s[-0] is True\n",
      "[186, 4431, 74440]\n",
      "False\n",
      "[3, 186, 4431, 74440, 1048443]\n"
     ]
    }
   ],
   "metadata": {}
  },
  {
   "cell_type": "markdown",
   "source": [
    "# Dictionaries"
   ],
   "metadata": {}
  },
  {
   "cell_type": "code",
   "execution_count": 41,
   "source": [
    "from pprint import pprint as pp\r\n",
    "d0 = {\"key1\": [1, 2, 3], \"key2\": 232}\r\n",
    "pp(d0)\r\n",
    "d1 = dict(key1='value1', key2='value2')\r\n",
    "pp(d1)\r\n",
    "d2 = dict([(1, \"one\"), (2, \"two\")])\r\n",
    "pp(d2)"
   ],
   "outputs": [
    {
     "output_type": "stream",
     "name": "stdout",
     "text": [
      "{'key1': [1, 2, 3], 'key2': 232}\n",
      "{'key1': 'value1', 'key2': 'value2'}\n",
      "{1: 'one', 2: 'two'}\n"
     ]
    }
   ],
   "metadata": {}
  },
  {
   "cell_type": "markdown",
   "source": [
    "# Sets"
   ],
   "metadata": {}
  },
  {
   "cell_type": "code",
   "execution_count": 46,
   "source": [
    "duplicates = [1, 2, 3] * 3\r\n",
    "print(duplicates)\r\n",
    "s = set(duplicates)\r\n",
    "print(s)\r\n",
    "\r\n",
    "k = {5, 7}\r\n",
    "k.add(7)\r\n",
    "print(k)\r\n",
    "k.update([1, 2, 3, 4, 5, 6, 7, 8])\r\n",
    "print(k)"
   ],
   "outputs": [
    {
     "output_type": "stream",
     "name": "stdout",
     "text": [
      "[1, 2, 3, 1, 2, 3, 1, 2, 3]\n",
      "{1, 2, 3}\n",
      "{5, 7}\n",
      "{1, 2, 3, 4, 5, 6, 7, 8}\n"
     ]
    }
   ],
   "metadata": {}
  }
 ],
 "metadata": {
  "orig_nbformat": 4,
  "language_info": {
   "name": "python",
   "version": "3.7.11",
   "mimetype": "text/x-python",
   "codemirror_mode": {
    "name": "ipython",
    "version": 3
   },
   "pygments_lexer": "ipython3",
   "nbconvert_exporter": "python",
   "file_extension": ".py"
  },
  "kernelspec": {
   "name": "python3",
   "display_name": "Python 3.7.11 64-bit ('py3.7': conda)"
  },
  "interpreter": {
   "hash": "5c71e6c5fb7b4d10dd08e31beb1aa785ad33b7dbf63d795cc378ce2ea18e0629"
  }
 },
 "nbformat": 4,
 "nbformat_minor": 2
}