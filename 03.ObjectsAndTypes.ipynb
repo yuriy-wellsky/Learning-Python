{
    "cells": [
        {
            "cell_type": "markdown",
            "source": [
                "# Equality and identity"
            ],
            "metadata": {}
        },
        {
            "cell_type": "code",
            "execution_count": 3,
            "source": [
                "r = [1, 2, 3, 4]\r\n",
                "s = [1, 2, 3, 4]\r\n",
                "\r\n",
                "print(f\"r == s: {r == s}\")\r\n",
                "print(f\"r is s: {r is s}\")\r\n",
                "print(f\"if of r is {id(r)} while id of s is {id(s)}\")"
            ],
            "outputs": [
                {
                    "output_type": "stream",
                    "name": "stdout",
                    "text": [
                        "r == s: True\n",
                        "r is s: False\n",
                        "if of r is 2214183626888 while id of s is 2214183627144\n"
                    ]
                }
            ],
            "metadata": {}
        },
        {
            "cell_type": "markdown",
            "source": [
                "# Everything is an object"
            ],
            "metadata": {}
        },
        {
            "cell_type": "code",
            "execution_count": 8,
            "source": [
                "import words\r\n",
                "print(type(words))\r\n",
                "print(dir(words))\r\n",
                "\r\n",
                "print(type(words.fetch_words))\r\n",
                "print(dir(words.fetch_words))"
            ],
            "outputs": [
                {
                    "output_type": "stream",
                    "name": "stdout",
                    "text": [
                        "<class 'module'>\n",
                        "['__builtins__', '__cached__', '__doc__', '__file__', '__loader__', '__name__', '__package__', '__spec__', 'fetch_words', 'main', 'print_items', 'sys', 'urlopen']\n",
                        "<class 'function'>\n",
                        "['__annotations__', '__call__', '__class__', '__closure__', '__code__', '__defaults__', '__delattr__', '__dict__', '__dir__', '__doc__', '__eq__', '__format__', '__ge__', '__get__', '__getattribute__', '__globals__', '__gt__', '__hash__', '__init__', '__init_subclass__', '__kwdefaults__', '__le__', '__lt__', '__module__', '__name__', '__ne__', '__new__', '__qualname__', '__reduce__', '__reduce_ex__', '__repr__', '__setattr__', '__sizeof__', '__str__', '__subclasshook__']\n"
                    ]
                }
            ],
            "metadata": {}
        }
    ],
    "metadata": {
        "orig_nbformat": 4,
        "language_info": {
            "name": "python",
            "version": "3.7.11",
            "mimetype": "text/x-python",
            "codemirror_mode": {
                "name": "ipython",
                "version": 3
            },
            "pygments_lexer": "ipython3",
            "nbconvert_exporter": "python",
            "file_extension": ".py"
        },
        "kernelspec": {
            "name": "python3",
            "display_name": "Python 3.7.11 64-bit ('py3.7': conda)"
        },
        "interpreter": {
            "hash": "5c71e6c5fb7b4d10dd08e31beb1aa785ad33b7dbf63d795cc378ce2ea18e0629"
        }
    },
    "nbformat": 4,
    "nbformat_minor": 2
}